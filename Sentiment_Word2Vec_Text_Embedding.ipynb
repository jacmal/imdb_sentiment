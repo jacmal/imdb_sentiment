{
  "nbformat": 4,
  "nbformat_minor": 0,
  "metadata": {
    "colab": {
      "name": "Sentiment_Word2Vec_Text_Embedding.ipynb",
      "provenance": [],
      "collapsed_sections": [],
      "authorship_tag": "ABX9TyPDTVcbcuwWF7aicKTwBxKR",
      "include_colab_link": true
    },
    "kernelspec": {
      "name": "python3",
      "display_name": "Python 3"
    },
    "language_info": {
      "name": "python"
    }
  },
  "cells": [
    {
      "cell_type": "markdown",
      "metadata": {
        "id": "view-in-github",
        "colab_type": "text"
      },
      "source": [
        "<a href=\"https://colab.research.google.com/github/jacmal/imdb_sentiment/blob/main/Sentiment_Word2Vec_Text_Embedding.ipynb\" target=\"_parent\"><img src=\"https://colab.research.google.com/assets/colab-badge.svg\" alt=\"Open In Colab\"/></a>"
      ]
    },
    {
      "cell_type": "code",
      "metadata": {
        "colab": {
          "base_uri": "https://localhost:8080/"
        },
        "id": "R46iyRmgM55i",
        "outputId": "43d3320a-6d08-4801-fe34-95f1279c521f"
      },
      "source": [
        "# install text preprocessing toolkit\n",
        "!git clone https://github.com/jacmal/preprocess_text_jm.git"
      ],
      "execution_count": 1,
      "outputs": [
        {
          "output_type": "stream",
          "text": [
            "Cloning into 'preprocess_text_jm'...\n",
            "remote: Enumerating objects: 17, done.\u001b[K\n",
            "remote: Counting objects: 100% (17/17), done.\u001b[K\n",
            "remote: Compressing objects: 100% (16/16), done.\u001b[K\n",
            "remote: Total 17 (delta 6), reused 6 (delta 0), pack-reused 0\u001b[K\n",
            "Unpacking objects: 100% (17/17), done.\n"
          ],
          "name": "stdout"
        }
      ]
    },
    {
      "cell_type": "code",
      "metadata": {
        "colab": {
          "base_uri": "https://localhost:8080/"
        },
        "id": "Hl4LfcXUtkRW",
        "outputId": "9a0b3725-a119-42b6-bfd0-97e2dfd9d103"
      },
      "source": [
        "!pip install sklearn"
      ],
      "execution_count": 2,
      "outputs": [
        {
          "output_type": "stream",
          "text": [
            "Requirement already satisfied: sklearn in /usr/local/lib/python3.7/dist-packages (0.0)\n",
            "Requirement already satisfied: scikit-learn in /usr/local/lib/python3.7/dist-packages (from sklearn) (0.22.2.post1)\n",
            "Requirement already satisfied: scipy>=0.17.0 in /usr/local/lib/python3.7/dist-packages (from scikit-learn->sklearn) (1.4.1)\n",
            "Requirement already satisfied: joblib>=0.11 in /usr/local/lib/python3.7/dist-packages (from scikit-learn->sklearn) (1.0.1)\n",
            "Requirement already satisfied: numpy>=1.11.0 in /usr/local/lib/python3.7/dist-packages (from scikit-learn->sklearn) (1.19.5)\n"
          ],
          "name": "stdout"
        }
      ]
    },
    {
      "cell_type": "code",
      "metadata": {
        "id": "jQ3MmDmRK9gj",
        "colab": {
          "base_uri": "https://localhost:8080/"
        },
        "outputId": "7dfad7db-7e9b-4281-af82-3a8f6ed455fb"
      },
      "source": [
        "# import of libraries \n",
        "import pandas as pd\n",
        "import numpy as np\n",
        "\n",
        "import requests\n",
        "import io\n",
        "\n",
        "import sys\n",
        "sys.path.append('/content/preprocess_text_jm')\n",
        "import preprocess_text_jm as txt_prep_pkg\n",
        "\n",
        "import spacy\n",
        "import spacy.cli\n",
        "spacy.cli.download(\"en_core_web_lg\")\n",
        "\n",
        "from sklearn.model_selection import train_test_split as tts\n",
        "from sklearn.linear_model import LogisticRegression as LR\n",
        "from sklearn.metrics import accuracy_score, classification_report, confusion_matrix\n",
        "\n",
        "from sklearn.svm import LinearSVC\n",
        "from sklearn.ensemble import RandomForestClassifier as RFC\n",
        "from sklearn.naive_bayes import GaussianNB\n",
        "\n",
        "from sklearn.model_selection import GridSearchCV"
      ],
      "execution_count": 3,
      "outputs": [
        {
          "output_type": "stream",
          "text": [
            "\u001b[38;5;2m✔ Download and installation successful\u001b[0m\n",
            "You can now load the model via spacy.load('en_core_web_lg')\n"
          ],
          "name": "stdout"
        }
      ]
    },
    {
      "cell_type": "code",
      "metadata": {
        "colab": {
          "base_uri": "https://localhost:8080/",
          "height": 112
        },
        "id": "YNjeeq6aF2YA",
        "outputId": "0c2c7c37-ba1b-4929-b8ae-13472c23c32d"
      },
      "source": [
        "# downloading the dataset \n",
        "url=\"https://raw.githubusercontent.com/jacmal/imdb_sentiment/main/imdb_reviews.txt\"\n",
        "site = requests.get(url).content\n",
        "\n",
        "# creating a dataframe \n",
        "df = pd.read_csv(io.StringIO(site.decode('utf-8')), sep='\\t', header=None)\n",
        "df.head(2)"
      ],
      "execution_count": 4,
      "outputs": [
        {
          "output_type": "execute_result",
          "data": {
            "text/html": [
              "<div>\n",
              "<style scoped>\n",
              "    .dataframe tbody tr th:only-of-type {\n",
              "        vertical-align: middle;\n",
              "    }\n",
              "\n",
              "    .dataframe tbody tr th {\n",
              "        vertical-align: top;\n",
              "    }\n",
              "\n",
              "    .dataframe thead th {\n",
              "        text-align: right;\n",
              "    }\n",
              "</style>\n",
              "<table border=\"1\" class=\"dataframe\">\n",
              "  <thead>\n",
              "    <tr style=\"text-align: right;\">\n",
              "      <th></th>\n",
              "      <th>0</th>\n",
              "      <th>1</th>\n",
              "    </tr>\n",
              "  </thead>\n",
              "  <tbody>\n",
              "    <tr>\n",
              "      <th>0</th>\n",
              "      <td>A very, very, very slow-moving, aimless movie ...</td>\n",
              "      <td>0</td>\n",
              "    </tr>\n",
              "    <tr>\n",
              "      <th>1</th>\n",
              "      <td>Not sure who was more lost - the flat characte...</td>\n",
              "      <td>0</td>\n",
              "    </tr>\n",
              "  </tbody>\n",
              "</table>\n",
              "</div>"
            ],
            "text/plain": [
              "                                                   0  1\n",
              "0  A very, very, very slow-moving, aimless movie ...  0\n",
              "1  Not sure who was more lost - the flat characte...  0"
            ]
          },
          "metadata": {
            "tags": []
          },
          "execution_count": 4
        }
      ]
    },
    {
      "cell_type": "code",
      "metadata": {
        "colab": {
          "base_uri": "https://localhost:8080/",
          "height": 112
        },
        "id": "3krma7bRMSlS",
        "outputId": "4f212955-abcf-459b-8e81-9a42c0b53219"
      },
      "source": [
        "# adding new names to columns\n",
        "df.columns = ['reviews', 'sentiment']\n",
        "df.head(2)"
      ],
      "execution_count": 5,
      "outputs": [
        {
          "output_type": "execute_result",
          "data": {
            "text/html": [
              "<div>\n",
              "<style scoped>\n",
              "    .dataframe tbody tr th:only-of-type {\n",
              "        vertical-align: middle;\n",
              "    }\n",
              "\n",
              "    .dataframe tbody tr th {\n",
              "        vertical-align: top;\n",
              "    }\n",
              "\n",
              "    .dataframe thead th {\n",
              "        text-align: right;\n",
              "    }\n",
              "</style>\n",
              "<table border=\"1\" class=\"dataframe\">\n",
              "  <thead>\n",
              "    <tr style=\"text-align: right;\">\n",
              "      <th></th>\n",
              "      <th>reviews</th>\n",
              "      <th>sentiment</th>\n",
              "    </tr>\n",
              "  </thead>\n",
              "  <tbody>\n",
              "    <tr>\n",
              "      <th>0</th>\n",
              "      <td>A very, very, very slow-moving, aimless movie ...</td>\n",
              "      <td>0</td>\n",
              "    </tr>\n",
              "    <tr>\n",
              "      <th>1</th>\n",
              "      <td>Not sure who was more lost - the flat characte...</td>\n",
              "      <td>0</td>\n",
              "    </tr>\n",
              "  </tbody>\n",
              "</table>\n",
              "</div>"
            ],
            "text/plain": [
              "                                             reviews  sentiment\n",
              "0  A very, very, very slow-moving, aimless movie ...          0\n",
              "1  Not sure who was more lost - the flat characte...          0"
            ]
          },
          "metadata": {
            "tags": []
          },
          "execution_count": 5
        }
      ]
    },
    {
      "cell_type": "code",
      "metadata": {
        "id": "76Bt0jRTNhYa"
      },
      "source": [
        "df_clean = df.copy()"
      ],
      "execution_count": 6,
      "outputs": []
    },
    {
      "cell_type": "code",
      "metadata": {
        "id": "hyDjSsVzNnaQ"
      },
      "source": [
        "# cleaning of the reviews\n",
        "df_clean['reviews'] = df_clean['reviews'].apply(lambda text: txt_prep_pkg.cont_exp(text))\n",
        "df_clean['reviews'] = df_clean['reviews'].apply(lambda text: txt_prep_pkg.remove_special_chars(text))\n",
        "df_clean['reviews'] = df_clean['reviews'].apply(lambda text: txt_prep_pkg.remove_accented_chars(text))\n",
        "df_clean['reviews'] = df_clean['reviews'].apply(lambda text: txt_prep_pkg.remove_emails(text))\n",
        "df_clean['reviews'] = df_clean['reviews'].apply(lambda text: txt_prep_pkg.remove_html_tags(text))\n",
        "df_clean['reviews'] = df_clean['reviews'].apply(lambda text: txt_prep_pkg.remove_urls(text))\n",
        "df_clean['reviews'] = df_clean['reviews'].apply(lambda text: txt_prep_pkg.make_base(text))\n",
        "#df_clean['reviews'] = df_clean['reviews'].apply(lambda text: txt_prep_pkg.spelling_correction(text))"
      ],
      "execution_count": 7,
      "outputs": []
    },
    {
      "cell_type": "code",
      "metadata": {
        "colab": {
          "base_uri": "https://localhost:8080/",
          "height": 206
        },
        "id": "u1TBJCcYSPTh",
        "outputId": "9fddb664-8751-4872-9b8e-a46c3eb82730"
      },
      "source": [
        "df_clean.head()"
      ],
      "execution_count": 8,
      "outputs": [
        {
          "output_type": "execute_result",
          "data": {
            "text/html": [
              "<div>\n",
              "<style scoped>\n",
              "    .dataframe tbody tr th:only-of-type {\n",
              "        vertical-align: middle;\n",
              "    }\n",
              "\n",
              "    .dataframe tbody tr th {\n",
              "        vertical-align: top;\n",
              "    }\n",
              "\n",
              "    .dataframe thead th {\n",
              "        text-align: right;\n",
              "    }\n",
              "</style>\n",
              "<table border=\"1\" class=\"dataframe\">\n",
              "  <thead>\n",
              "    <tr style=\"text-align: right;\">\n",
              "      <th></th>\n",
              "      <th>reviews</th>\n",
              "      <th>sentiment</th>\n",
              "    </tr>\n",
              "  </thead>\n",
              "  <tbody>\n",
              "    <tr>\n",
              "      <th>0</th>\n",
              "      <td>a very very very slowmove aimless movie about ...</td>\n",
              "      <td>0</td>\n",
              "    </tr>\n",
              "    <tr>\n",
              "      <th>1</th>\n",
              "      <td>not sure who was more lose   the flat characte...</td>\n",
              "      <td>0</td>\n",
              "    </tr>\n",
              "    <tr>\n",
              "      <th>2</th>\n",
              "      <td>attempt artiness with black   white and clever...</td>\n",
              "      <td>0</td>\n",
              "    </tr>\n",
              "    <tr>\n",
              "      <th>3</th>\n",
              "      <td>very little music or anything to speak of</td>\n",
              "      <td>0</td>\n",
              "    </tr>\n",
              "    <tr>\n",
              "      <th>4</th>\n",
              "      <td>the good scene in the movie was when Gerardo i...</td>\n",
              "      <td>1</td>\n",
              "    </tr>\n",
              "  </tbody>\n",
              "</table>\n",
              "</div>"
            ],
            "text/plain": [
              "                                             reviews  sentiment\n",
              "0  a very very very slowmove aimless movie about ...          0\n",
              "1  not sure who was more lose   the flat characte...          0\n",
              "2  attempt artiness with black   white and clever...          0\n",
              "3          very little music or anything to speak of          0\n",
              "4  the good scene in the movie was when Gerardo i...          1"
            ]
          },
          "metadata": {
            "tags": []
          },
          "execution_count": 8
        }
      ]
    },
    {
      "cell_type": "code",
      "metadata": {
        "id": "mvt_e5rvYqD9"
      },
      "source": [
        "# English language pipeline\n",
        "nlp = spacy.load(\"en_core_web_lg\")"
      ],
      "execution_count": 9,
      "outputs": []
    },
    {
      "cell_type": "code",
      "metadata": {
        "id": "usR1aYO-ZAXl"
      },
      "source": [
        "# \n",
        "def vectorize_text(text):\n",
        "  '''\n",
        "  Takes a string variable and returns it as a vector.\n",
        "  '''\n",
        "  doc_nlp = nlp(text)\n",
        "  vector = doc_nlp.vector\n",
        "  \n",
        "  return vector"
      ],
      "execution_count": 10,
      "outputs": []
    },
    {
      "cell_type": "code",
      "metadata": {
        "id": "6RrTwzo_Zscf"
      },
      "source": [
        "# creating a new column with vectorized text\n",
        "df_clean['reviews2vec'] = df_clean['reviews'].apply(lambda text: vectorize_text(text))"
      ],
      "execution_count": 11,
      "outputs": []
    },
    {
      "cell_type": "code",
      "metadata": {
        "colab": {
          "base_uri": "https://localhost:8080/",
          "height": 206
        },
        "id": "exf8B_mwaXW1",
        "outputId": "d6450416-3363-4646-ee50-b8ef1a174523"
      },
      "source": [
        "df_clean.head()"
      ],
      "execution_count": 12,
      "outputs": [
        {
          "output_type": "execute_result",
          "data": {
            "text/html": [
              "<div>\n",
              "<style scoped>\n",
              "    .dataframe tbody tr th:only-of-type {\n",
              "        vertical-align: middle;\n",
              "    }\n",
              "\n",
              "    .dataframe tbody tr th {\n",
              "        vertical-align: top;\n",
              "    }\n",
              "\n",
              "    .dataframe thead th {\n",
              "        text-align: right;\n",
              "    }\n",
              "</style>\n",
              "<table border=\"1\" class=\"dataframe\">\n",
              "  <thead>\n",
              "    <tr style=\"text-align: right;\">\n",
              "      <th></th>\n",
              "      <th>reviews</th>\n",
              "      <th>sentiment</th>\n",
              "      <th>reviews2vec</th>\n",
              "    </tr>\n",
              "  </thead>\n",
              "  <tbody>\n",
              "    <tr>\n",
              "      <th>0</th>\n",
              "      <td>a very very very slowmove aimless movie about ...</td>\n",
              "      <td>0</td>\n",
              "      <td>[-0.029546848, 0.09122606, -0.1881294, 0.15151...</td>\n",
              "    </tr>\n",
              "    <tr>\n",
              "      <th>1</th>\n",
              "      <td>not sure who was more lose   the flat characte...</td>\n",
              "      <td>0</td>\n",
              "      <td>[0.058918916, 0.18493456, -0.13811785, -0.0045...</td>\n",
              "    </tr>\n",
              "    <tr>\n",
              "      <th>2</th>\n",
              "      <td>attempt artiness with black   white and clever...</td>\n",
              "      <td>0</td>\n",
              "      <td>[-0.16601251, 0.009866389, -0.09277145, -0.063...</td>\n",
              "    </tr>\n",
              "    <tr>\n",
              "      <th>3</th>\n",
              "      <td>very little music or anything to speak of</td>\n",
              "      <td>0</td>\n",
              "      <td>[-0.09093174, 0.25162372, -0.25681874, 0.15846...</td>\n",
              "    </tr>\n",
              "    <tr>\n",
              "      <th>4</th>\n",
              "      <td>the good scene in the movie was when Gerardo i...</td>\n",
              "      <td>1</td>\n",
              "      <td>[0.086556055, 0.1315579, -0.12832318, -0.02360...</td>\n",
              "    </tr>\n",
              "  </tbody>\n",
              "</table>\n",
              "</div>"
            ],
            "text/plain": [
              "                                             reviews  ...                                        reviews2vec\n",
              "0  a very very very slowmove aimless movie about ...  ...  [-0.029546848, 0.09122606, -0.1881294, 0.15151...\n",
              "1  not sure who was more lose   the flat characte...  ...  [0.058918916, 0.18493456, -0.13811785, -0.0045...\n",
              "2  attempt artiness with black   white and clever...  ...  [-0.16601251, 0.009866389, -0.09277145, -0.063...\n",
              "3          very little music or anything to speak of  ...  [-0.09093174, 0.25162372, -0.25681874, 0.15846...\n",
              "4  the good scene in the movie was when Gerardo i...  ...  [0.086556055, 0.1315579, -0.12832318, -0.02360...\n",
              "\n",
              "[5 rows x 3 columns]"
            ]
          },
          "metadata": {
            "tags": []
          },
          "execution_count": 12
        }
      ]
    },
    {
      "cell_type": "code",
      "metadata": {
        "id": "Us9cAFPfa1LU"
      },
      "source": [
        "# create a new variable as type: np.array\n",
        "X = df_clean['reviews2vec'].to_numpy()"
      ],
      "execution_count": 13,
      "outputs": []
    },
    {
      "cell_type": "code",
      "metadata": {
        "colab": {
          "base_uri": "https://localhost:8080/"
        },
        "id": "IgedVPJfbmRr",
        "outputId": "2aaef2ee-5401-4517-aa73-4d8396ca2e31"
      },
      "source": [
        "X.shape"
      ],
      "execution_count": 14,
      "outputs": [
        {
          "output_type": "execute_result",
          "data": {
            "text/plain": [
              "(748,)"
            ]
          },
          "metadata": {
            "tags": []
          },
          "execution_count": 14
        }
      ]
    },
    {
      "cell_type": "code",
      "metadata": {
        "id": "8nB-9nHRbaL0"
      },
      "source": [
        "# reshape X array\n",
        "X = X.reshape(-1, 1)"
      ],
      "execution_count": 15,
      "outputs": []
    },
    {
      "cell_type": "code",
      "metadata": {
        "colab": {
          "base_uri": "https://localhost:8080/"
        },
        "id": "h-NTNTuabji8",
        "outputId": "63ae8349-7ea4-43fd-f58f-ecdde2cff8c4"
      },
      "source": [
        "X.shape"
      ],
      "execution_count": 16,
      "outputs": [
        {
          "output_type": "execute_result",
          "data": {
            "text/plain": [
              "(748, 1)"
            ]
          },
          "metadata": {
            "tags": []
          },
          "execution_count": 16
        }
      ]
    },
    {
      "cell_type": "code",
      "metadata": {
        "id": "U07M4oCcbIlY"
      },
      "source": [
        "# create a new variable as type: np.array\n",
        "y = df_clean['sentiment'].to_numpy()"
      ],
      "execution_count": 17,
      "outputs": []
    },
    {
      "cell_type": "code",
      "metadata": {
        "colab": {
          "base_uri": "https://localhost:8080/"
        },
        "id": "YzUJjMSxbWBr",
        "outputId": "a1951a9a-99d2-473f-8105-51143bfd16a1"
      },
      "source": [
        "y.shape"
      ],
      "execution_count": 18,
      "outputs": [
        {
          "output_type": "execute_result",
          "data": {
            "text/plain": [
              "(748,)"
            ]
          },
          "metadata": {
            "tags": []
          },
          "execution_count": 18
        }
      ]
    },
    {
      "cell_type": "code",
      "metadata": {
        "colab": {
          "base_uri": "https://localhost:8080/"
        },
        "id": "J40BsFA9cJF9",
        "outputId": "4207d5c5-f93b-4238-fb1d-b8c7447c6aba"
      },
      "source": [
        "# reshape X array\n",
        "Xc = np.concatenate(X, axis=0)\n",
        "Xc.shape"
      ],
      "execution_count": 19,
      "outputs": [
        {
          "output_type": "execute_result",
          "data": {
            "text/plain": [
              "(748,)"
            ]
          },
          "metadata": {
            "tags": []
          },
          "execution_count": 19
        }
      ]
    },
    {
      "cell_type": "code",
      "metadata": {
        "colab": {
          "base_uri": "https://localhost:8080/"
        },
        "id": "RsWCMUMtchPk",
        "outputId": "b6b785ca-6785-4f39-87ec-d4313a0add71"
      },
      "source": [
        "# reshape X array\n",
        "Xc2 = np.concatenate(Xc, axis=0)\n",
        "Xc2.shape"
      ],
      "execution_count": 20,
      "outputs": [
        {
          "output_type": "execute_result",
          "data": {
            "text/plain": [
              "(224400,)"
            ]
          },
          "metadata": {
            "tags": []
          },
          "execution_count": 20
        }
      ]
    },
    {
      "cell_type": "code",
      "metadata": {
        "colab": {
          "base_uri": "https://localhost:8080/"
        },
        "id": "JCPPVdoZc-_0",
        "outputId": "45c04dfd-99a5-4d00-feae-b686030009dd"
      },
      "source": [
        "# X variable is in right shape now\n",
        "X = Xc2.reshape(-1, 300)\n",
        "X.shape"
      ],
      "execution_count": 21,
      "outputs": [
        {
          "output_type": "execute_result",
          "data": {
            "text/plain": [
              "(748, 300)"
            ]
          },
          "metadata": {
            "tags": []
          },
          "execution_count": 21
        }
      ]
    },
    {
      "cell_type": "code",
      "metadata": {
        "id": "h6YQ6A-frc8G"
      },
      "source": [
        "# create training and testing data sets\n",
        "X_train, X_test, y_train, y_test = tts(X, y, test_size=0.25, random_state=0, stratify=y)"
      ],
      "execution_count": 22,
      "outputs": []
    },
    {
      "cell_type": "code",
      "metadata": {
        "colab": {
          "base_uri": "https://localhost:8080/"
        },
        "id": "SzzhvX42r8Tt",
        "outputId": "c223c696-92e3-49ca-ca8c-b0dbe4122627"
      },
      "source": [
        "# check the shape of data sets\n",
        "X_train.shape, X_test.shape, y_train.shape, y_test.shape"
      ],
      "execution_count": 23,
      "outputs": [
        {
          "output_type": "execute_result",
          "data": {
            "text/plain": [
              "((561, 300), (187, 300), (561,), (187,))"
            ]
          },
          "metadata": {
            "tags": []
          },
          "execution_count": 23
        }
      ]
    },
    {
      "cell_type": "code",
      "metadata": {
        "colab": {
          "base_uri": "https://localhost:8080/"
        },
        "id": "SBLAJIlMsQau",
        "outputId": "7a783997-a470-4686-e668-9d11c1daa7ce"
      },
      "source": [
        "# create Logistic Regression Classifier\n",
        "clf_lr = LR(solver='liblinear')\n",
        "clf_lr.fit(X_train, y_train)"
      ],
      "execution_count": 24,
      "outputs": [
        {
          "output_type": "execute_result",
          "data": {
            "text/plain": [
              "LogisticRegression(C=1.0, class_weight=None, dual=False, fit_intercept=True,\n",
              "                   intercept_scaling=1, l1_ratio=None, max_iter=100,\n",
              "                   multi_class='auto', n_jobs=None, penalty='l2',\n",
              "                   random_state=None, solver='liblinear', tol=0.0001, verbose=0,\n",
              "                   warm_start=False)"
            ]
          },
          "metadata": {
            "tags": []
          },
          "execution_count": 24
        }
      ]
    },
    {
      "cell_type": "code",
      "metadata": {
        "id": "DN0_FpwZt36V"
      },
      "source": [
        "# prediction of the dependent variable\n",
        "y_pred_lr = clf_lr.predict(X_test)"
      ],
      "execution_count": 25,
      "outputs": []
    },
    {
      "cell_type": "code",
      "metadata": {
        "colab": {
          "base_uri": "https://localhost:8080/"
        },
        "id": "au-xcXTyt_H8",
        "outputId": "1d10bca1-fdcf-4322-a6a3-461d04d822c2"
      },
      "source": [
        "# display classyfication report for Logistic Regression\n",
        "print(classification_report(y_test, y_pred_lr))"
      ],
      "execution_count": 26,
      "outputs": [
        {
          "output_type": "stream",
          "text": [
            "              precision    recall  f1-score   support\n",
            "\n",
            "           0       0.78      0.81      0.80        91\n",
            "           1       0.82      0.78      0.80        96\n",
            "\n",
            "    accuracy                           0.80       187\n",
            "   macro avg       0.80      0.80      0.80       187\n",
            "weighted avg       0.80      0.80      0.80       187\n",
            "\n"
          ],
          "name": "stdout"
        }
      ]
    },
    {
      "cell_type": "code",
      "metadata": {
        "colab": {
          "base_uri": "https://localhost:8080/"
        },
        "id": "qAa3qIS2wagd",
        "outputId": "03b37e81-ea5f-40d4-92ce-e53bca840410"
      },
      "source": [
        "# create SVC\n",
        "clf_svc = LinearSVC()\n",
        "clf_svc.fit(X_train, y_train)"
      ],
      "execution_count": 27,
      "outputs": [
        {
          "output_type": "execute_result",
          "data": {
            "text/plain": [
              "LinearSVC(C=1.0, class_weight=None, dual=True, fit_intercept=True,\n",
              "          intercept_scaling=1, loss='squared_hinge', max_iter=1000,\n",
              "          multi_class='ovr', penalty='l2', random_state=None, tol=0.0001,\n",
              "          verbose=0)"
            ]
          },
          "metadata": {
            "tags": []
          },
          "execution_count": 27
        }
      ]
    },
    {
      "cell_type": "code",
      "metadata": {
        "id": "DIQ040rpwqqr"
      },
      "source": [
        "# SVC model prediction\n",
        "y_pred_svc = clf_svc.predict(X_test)"
      ],
      "execution_count": 28,
      "outputs": []
    },
    {
      "cell_type": "code",
      "metadata": {
        "colab": {
          "base_uri": "https://localhost:8080/"
        },
        "id": "uy9LB7vfw5uz",
        "outputId": "3c0223b2-7764-482a-ceab-fee1b9ee3fcc"
      },
      "source": [
        "# display SVC classyfication report\n",
        "print(classification_report(y_test, y_pred_svc))"
      ],
      "execution_count": 29,
      "outputs": [
        {
          "output_type": "stream",
          "text": [
            "              precision    recall  f1-score   support\n",
            "\n",
            "           0       0.75      0.80      0.78        91\n",
            "           1       0.80      0.75      0.77        96\n",
            "\n",
            "    accuracy                           0.78       187\n",
            "   macro avg       0.78      0.78      0.78       187\n",
            "weighted avg       0.78      0.78      0.78       187\n",
            "\n"
          ],
          "name": "stdout"
        }
      ]
    },
    {
      "cell_type": "code",
      "metadata": {
        "colab": {
          "base_uri": "https://localhost:8080/"
        },
        "id": "tdxT8T0bxtWL",
        "outputId": "4177a285-e52b-4eb4-a904-75d3b48aefee"
      },
      "source": [
        "# create Random Forest Classifier\n",
        "clf_rfc = RFC(criterion='entropy')\n",
        "clf_rfc.fit(X_train, y_train)"
      ],
      "execution_count": 30,
      "outputs": [
        {
          "output_type": "execute_result",
          "data": {
            "text/plain": [
              "RandomForestClassifier(bootstrap=True, ccp_alpha=0.0, class_weight=None,\n",
              "                       criterion='entropy', max_depth=None, max_features='auto',\n",
              "                       max_leaf_nodes=None, max_samples=None,\n",
              "                       min_impurity_decrease=0.0, min_impurity_split=None,\n",
              "                       min_samples_leaf=1, min_samples_split=2,\n",
              "                       min_weight_fraction_leaf=0.0, n_estimators=100,\n",
              "                       n_jobs=None, oob_score=False, random_state=None,\n",
              "                       verbose=0, warm_start=False)"
            ]
          },
          "metadata": {
            "tags": []
          },
          "execution_count": 30
        }
      ]
    },
    {
      "cell_type": "code",
      "metadata": {
        "id": "Rv8JCz0vx_Kf"
      },
      "source": [
        "# RFC model prediction\n",
        "y_pred_rfc = clf_rfc.predict(X_test)"
      ],
      "execution_count": 31,
      "outputs": []
    },
    {
      "cell_type": "code",
      "metadata": {
        "colab": {
          "base_uri": "https://localhost:8080/"
        },
        "id": "vqyYemvpyGS9",
        "outputId": "903ff862-c91a-43e8-88f6-5d14dc7150da"
      },
      "source": [
        "# RFC classyfication report\n",
        "print(classification_report(y_test, y_pred_rfc))"
      ],
      "execution_count": 32,
      "outputs": [
        {
          "output_type": "stream",
          "text": [
            "              precision    recall  f1-score   support\n",
            "\n",
            "           0       0.74      0.74      0.74        91\n",
            "           1       0.75      0.76      0.76        96\n",
            "\n",
            "    accuracy                           0.75       187\n",
            "   macro avg       0.75      0.75      0.75       187\n",
            "weighted avg       0.75      0.75      0.75       187\n",
            "\n"
          ],
          "name": "stdout"
        }
      ]
    },
    {
      "cell_type": "code",
      "metadata": {
        "colab": {
          "base_uri": "https://localhost:8080/"
        },
        "id": "x-cdEqfO1wyZ",
        "outputId": "cb10b923-9e72-409b-e9f2-1c504e5e9835"
      },
      "source": [
        "# create Gaussian Naive Bayes Classifier\n",
        "clf_gnb = GaussianNB()\n",
        "clf_gnb.fit(X_train, y_train)"
      ],
      "execution_count": 33,
      "outputs": [
        {
          "output_type": "execute_result",
          "data": {
            "text/plain": [
              "GaussianNB(priors=None, var_smoothing=1e-09)"
            ]
          },
          "metadata": {
            "tags": []
          },
          "execution_count": 33
        }
      ]
    },
    {
      "cell_type": "code",
      "metadata": {
        "id": "DqKNzeyS1-Qq"
      },
      "source": [
        "# GNBC model prediction\n",
        "y_pred_gnb = clf_gnb.predict(X_test)"
      ],
      "execution_count": 34,
      "outputs": []
    },
    {
      "cell_type": "code",
      "metadata": {
        "colab": {
          "base_uri": "https://localhost:8080/"
        },
        "id": "Y7PNdLuw2F0p",
        "outputId": "b02da391-c611-4c25-ed6c-7a92961b85eb"
      },
      "source": [
        "# GNBC classyfication report\n",
        "print(classification_report(y_test, y_pred_gnb))"
      ],
      "execution_count": 35,
      "outputs": [
        {
          "output_type": "stream",
          "text": [
            "              precision    recall  f1-score   support\n",
            "\n",
            "           0       0.70      0.70      0.70        91\n",
            "           1       0.72      0.72      0.72        96\n",
            "\n",
            "    accuracy                           0.71       187\n",
            "   macro avg       0.71      0.71      0.71       187\n",
            "weighted avg       0.71      0.71      0.71       187\n",
            "\n"
          ],
          "name": "stdout"
        }
      ]
    },
    {
      "cell_type": "code",
      "metadata": {
        "id": "FuerUTnI3tCJ"
      },
      "source": [
        "# hyperparameter tuning for Logistic Regression Classifier\n",
        "clf_lr = LR(solver='liblinear')"
      ],
      "execution_count": 36,
      "outputs": []
    },
    {
      "cell_type": "code",
      "metadata": {
        "id": "P-un4dbF2vbS"
      },
      "source": [
        "# heperparameter to check\n",
        "hyper_lr = {'penalty': ['l1', 'l2'],\n",
        "            'C': (1,2,3,4)}"
      ],
      "execution_count": 37,
      "outputs": []
    },
    {
      "cell_type": "code",
      "metadata": {
        "id": "WrAuwzy84mFh"
      },
      "source": [
        "# grid search parameters for LR\n",
        "clf = GridSearchCV(clf_lr, hyper_lr, n_jobs=-1, cv=5)"
      ],
      "execution_count": 38,
      "outputs": []
    },
    {
      "cell_type": "code",
      "metadata": {
        "colab": {
          "base_uri": "https://localhost:8080/"
        },
        "id": "YQP3n0qP5BKJ",
        "outputId": "e7dc0f9f-d0a7-452a-c16f-d1b7ba61c349"
      },
      "source": [
        "# fit training and testing data sets into griid search\n",
        "clf.fit(X_train, y_train)"
      ],
      "execution_count": 39,
      "outputs": [
        {
          "output_type": "execute_result",
          "data": {
            "text/plain": [
              "GridSearchCV(cv=5, error_score=nan,\n",
              "             estimator=LogisticRegression(C=1.0, class_weight=None, dual=False,\n",
              "                                          fit_intercept=True,\n",
              "                                          intercept_scaling=1, l1_ratio=None,\n",
              "                                          max_iter=100, multi_class='auto',\n",
              "                                          n_jobs=None, penalty='l2',\n",
              "                                          random_state=None, solver='liblinear',\n",
              "                                          tol=0.0001, verbose=0,\n",
              "                                          warm_start=False),\n",
              "             iid='deprecated', n_jobs=-1,\n",
              "             param_grid={'C': (1, 2, 3, 4), 'penalty': ['l1', 'l2']},\n",
              "             pre_dispatch='2*n_jobs', refit=True, return_train_score=False,\n",
              "             scoring=None, verbose=0)"
            ]
          },
          "metadata": {
            "tags": []
          },
          "execution_count": 39
        }
      ]
    },
    {
      "cell_type": "code",
      "metadata": {
        "colab": {
          "base_uri": "https://localhost:8080/"
        },
        "id": "-uxyXZTy6MQZ",
        "outputId": "7c1fffbd-4976-4762-80ea-88c3ac501449"
      },
      "source": [
        "# best params\n",
        "clf.best_params_"
      ],
      "execution_count": 40,
      "outputs": [
        {
          "output_type": "execute_result",
          "data": {
            "text/plain": [
              "{'C': 3, 'penalty': 'l2'}"
            ]
          },
          "metadata": {
            "tags": []
          },
          "execution_count": 40
        }
      ]
    }
  ]
}